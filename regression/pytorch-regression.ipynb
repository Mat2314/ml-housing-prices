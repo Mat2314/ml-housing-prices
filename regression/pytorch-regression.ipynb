{
 "cells": [
  {
   "cell_type": "markdown",
   "id": "94d2ba1a",
   "metadata": {},
   "source": [
    "# Predict house price in Warsaw using PyTorch\n"
   ]
  },
  {
   "cell_type": "markdown",
   "id": "cf083a70",
   "metadata": {},
   "source": [
    "### Import necessary libraries"
   ]
  },
  {
   "cell_type": "code",
   "execution_count": 153,
   "id": "35e50297",
   "metadata": {},
   "outputs": [],
   "source": [
    "import pandas as pd\n",
    "import matplotlib.pyplot as plt\n",
    "import numpy as np\n",
    "from sklearn.preprocessing import OrdinalEncoder, StandardScaler\n",
    "from sklearn.model_selection import train_test_split\n",
    "import torch"
   ]
  },
  {
   "cell_type": "markdown",
   "id": "80ee6711",
   "metadata": {},
   "source": [
    "### Load and analyze the dataset\n",
    "Visualize what's inside the dataset. \n",
    "\n",
    "What type of data are we looking at.\n",
    "\n",
    "Display charts, dependencies and check if dataset is clean."
   ]
  },
  {
   "cell_type": "code",
   "execution_count": 184,
   "id": "96242ae5",
   "metadata": {},
   "outputs": [],
   "source": [
    "df = pd.read_csv(\"../datasets/warsaw_houses.csv\")"
   ]
  },
  {
   "cell_type": "code",
   "execution_count": 185,
   "id": "8f66f50f",
   "metadata": {},
   "outputs": [
    {
     "data": {
      "text/html": [
       "<div>\n",
       "<style scoped>\n",
       "    .dataframe tbody tr th:only-of-type {\n",
       "        vertical-align: middle;\n",
       "    }\n",
       "\n",
       "    .dataframe tbody tr th {\n",
       "        vertical-align: top;\n",
       "    }\n",
       "\n",
       "    .dataframe thead th {\n",
       "        text-align: right;\n",
       "    }\n",
       "</style>\n",
       "<table border=\"1\" class=\"dataframe\">\n",
       "  <thead>\n",
       "    <tr style=\"text-align: right;\">\n",
       "      <th></th>\n",
       "      <th>district</th>\n",
       "      <th>rooms</th>\n",
       "      <th>square_meters</th>\n",
       "      <th>price</th>\n",
       "    </tr>\n",
       "  </thead>\n",
       "  <tbody>\n",
       "    <tr>\n",
       "      <th>0</th>\n",
       "      <td>Wola</td>\n",
       "      <td>1</td>\n",
       "      <td>29.0</td>\n",
       "      <td>2300</td>\n",
       "    </tr>\n",
       "    <tr>\n",
       "      <th>1</th>\n",
       "      <td>Bemowo</td>\n",
       "      <td>3</td>\n",
       "      <td>61.0</td>\n",
       "      <td>3300</td>\n",
       "    </tr>\n",
       "    <tr>\n",
       "      <th>2</th>\n",
       "      <td>Ursynów</td>\n",
       "      <td>3</td>\n",
       "      <td>68.0</td>\n",
       "      <td>3499</td>\n",
       "    </tr>\n",
       "    <tr>\n",
       "      <th>3</th>\n",
       "      <td>Śródmieście</td>\n",
       "      <td>3</td>\n",
       "      <td>172.0</td>\n",
       "      <td>40000</td>\n",
       "    </tr>\n",
       "    <tr>\n",
       "      <th>4</th>\n",
       "      <td>PragaPółnoc</td>\n",
       "      <td>2</td>\n",
       "      <td>40.0</td>\n",
       "      <td>2500</td>\n",
       "    </tr>\n",
       "  </tbody>\n",
       "</table>\n",
       "</div>"
      ],
      "text/plain": [
       "      district  rooms  square_meters  price\n",
       "0         Wola      1           29.0   2300\n",
       "1       Bemowo      3           61.0   3300\n",
       "2      Ursynów      3           68.0   3499\n",
       "3  Śródmieście      3          172.0  40000\n",
       "4  PragaPółnoc      2           40.0   2500"
      ]
     },
     "execution_count": 185,
     "metadata": {},
     "output_type": "execute_result"
    }
   ],
   "source": [
    "df.head()"
   ]
  },
  {
   "cell_type": "code",
   "execution_count": 186,
   "id": "4dbab7a4",
   "metadata": {},
   "outputs": [
    {
     "data": {
      "text/plain": [
       "(1038, 4)"
      ]
     },
     "execution_count": 186,
     "metadata": {},
     "output_type": "execute_result"
    }
   ],
   "source": [
    "df.shape"
   ]
  },
  {
   "cell_type": "code",
   "execution_count": 187,
   "id": "2afb7b43",
   "metadata": {},
   "outputs": [
    {
     "data": {
      "text/html": [
       "<div>\n",
       "<style scoped>\n",
       "    .dataframe tbody tr th:only-of-type {\n",
       "        vertical-align: middle;\n",
       "    }\n",
       "\n",
       "    .dataframe tbody tr th {\n",
       "        vertical-align: top;\n",
       "    }\n",
       "\n",
       "    .dataframe thead th {\n",
       "        text-align: right;\n",
       "    }\n",
       "</style>\n",
       "<table border=\"1\" class=\"dataframe\">\n",
       "  <thead>\n",
       "    <tr style=\"text-align: right;\">\n",
       "      <th></th>\n",
       "      <th>rooms</th>\n",
       "      <th>square_meters</th>\n",
       "      <th>price</th>\n",
       "    </tr>\n",
       "  </thead>\n",
       "  <tbody>\n",
       "    <tr>\n",
       "      <th>count</th>\n",
       "      <td>1038.000000</td>\n",
       "      <td>1038.000000</td>\n",
       "      <td>1038.000000</td>\n",
       "    </tr>\n",
       "    <tr>\n",
       "      <th>mean</th>\n",
       "      <td>2.301541</td>\n",
       "      <td>58.238834</td>\n",
       "      <td>5999.289981</td>\n",
       "    </tr>\n",
       "    <tr>\n",
       "      <th>std</th>\n",
       "      <td>0.874264</td>\n",
       "      <td>32.275873</td>\n",
       "      <td>15918.373740</td>\n",
       "    </tr>\n",
       "    <tr>\n",
       "      <th>min</th>\n",
       "      <td>1.000000</td>\n",
       "      <td>17.290000</td>\n",
       "      <td>1700.000000</td>\n",
       "    </tr>\n",
       "    <tr>\n",
       "      <th>25%</th>\n",
       "      <td>2.000000</td>\n",
       "      <td>39.700000</td>\n",
       "      <td>3000.000000</td>\n",
       "    </tr>\n",
       "    <tr>\n",
       "      <th>50%</th>\n",
       "      <td>2.000000</td>\n",
       "      <td>49.800000</td>\n",
       "      <td>3600.000000</td>\n",
       "    </tr>\n",
       "    <tr>\n",
       "      <th>75%</th>\n",
       "      <td>3.000000</td>\n",
       "      <td>66.000000</td>\n",
       "      <td>5000.000000</td>\n",
       "    </tr>\n",
       "    <tr>\n",
       "      <th>max</th>\n",
       "      <td>6.000000</td>\n",
       "      <td>328.000000</td>\n",
       "      <td>249990.000000</td>\n",
       "    </tr>\n",
       "  </tbody>\n",
       "</table>\n",
       "</div>"
      ],
      "text/plain": [
       "             rooms  square_meters          price\n",
       "count  1038.000000    1038.000000    1038.000000\n",
       "mean      2.301541      58.238834    5999.289981\n",
       "std       0.874264      32.275873   15918.373740\n",
       "min       1.000000      17.290000    1700.000000\n",
       "25%       2.000000      39.700000    3000.000000\n",
       "50%       2.000000      49.800000    3600.000000\n",
       "75%       3.000000      66.000000    5000.000000\n",
       "max       6.000000     328.000000  249990.000000"
      ]
     },
     "execution_count": 187,
     "metadata": {},
     "output_type": "execute_result"
    }
   ],
   "source": [
    "df.describe()"
   ]
  },
  {
   "cell_type": "code",
   "execution_count": 188,
   "id": "e6d5435c",
   "metadata": {},
   "outputs": [
    {
     "name": "stdout",
     "output_type": "stream",
     "text": [
      "<class 'pandas.core.frame.DataFrame'>\n",
      "RangeIndex: 1038 entries, 0 to 1037\n",
      "Data columns (total 4 columns):\n",
      " #   Column         Non-Null Count  Dtype  \n",
      "---  ------         --------------  -----  \n",
      " 0   district       1038 non-null   object \n",
      " 1   rooms          1038 non-null   int64  \n",
      " 2   square_meters  1038 non-null   float64\n",
      " 3   price          1038 non-null   int64  \n",
      "dtypes: float64(1), int64(2), object(1)\n",
      "memory usage: 32.6+ KB\n"
     ]
    }
   ],
   "source": [
    "df.info()"
   ]
  },
  {
   "cell_type": "markdown",
   "id": "c91d15c1",
   "metadata": {},
   "source": [
    "### Explore data with charts"
   ]
  },
  {
   "cell_type": "code",
   "execution_count": 189,
   "id": "0b9d1272",
   "metadata": {},
   "outputs": [],
   "source": [
    "# Collect mean prices for houses in each city district\n",
    "unique_districts = df['district'].unique()\n",
    "mean_prices = []\n",
    "\n",
    "for d in unique_districts:\n",
    "    single_district = df[df['district'] == d]\n",
    "    mean_price = single_district['price'].mean()\n",
    "    mean_prices.append(mean_price)\n",
    "\n",
    "# Sort from most expensive to the least expensive\n",
    "districts_prices = sorted(zip(unique_districts, mean_prices), key=lambda pair: pair[1], reverse=True)\n",
    "districts, prices = zip(*districts_prices)"
   ]
  },
  {
   "cell_type": "code",
   "execution_count": 190,
   "id": "1bcda395",
   "metadata": {
    "scrolled": false
   },
   "outputs": [
    {
     "data": {
      "image/png": "[encoded data removed]",
      "text/plain": [
       "<Figure size 1656x576 with 1 Axes>"
      ]
     },
     "metadata": {},
     "output_type": "display_data"
    }
   ],
   "source": [
    "# Show prices in the chart\n",
    "fig, ax = plt.subplots(figsize=(23,8))\n",
    "\n",
    "ax.bar(districts, prices)\n",
    "\n",
    "ax.set_ylabel('Mean price')\n",
    "ax.set_title('Mean prices in Warsaw districts')\n",
    "\n",
    "plt.show()"
   ]
  },
  {
   "cell_type": "code",
   "execution_count": 191,
   "id": "025a4193",
   "metadata": {},
   "outputs": [],
   "source": [
    "# Count houses number for each district\n",
    "houses_count = []\n",
    "for d in districts:\n",
    "    single_district = df[df['district'] == d]\n",
    "    houses_count.append(len(single_district))\n"
   ]
  },
  {
   "cell_type": "code",
   "execution_count": 192,
   "id": "2fbe87c0",
   "metadata": {
    "scrolled": true
   },
   "outputs": [
    {
     "data": {
      "image/png": "[encoded data removed]",
      "text/plain": [
       "<Figure size 1656x576 with 1 Axes>"
      ]
     },
     "metadata": {},
     "output_type": "display_data"
    }
   ],
   "source": [
    "# Let's see a scatterplot to check how\n",
    "colors = list(\"bgrcmykw\")*3\n",
    "colors = colors[:len(districts)]\n",
    "\n",
    "fig, ax = plt.subplots(figsize=(23,8))\n",
    "\n",
    "ax.scatter(districts, houses_count, c=colors, s=prices, alpha=0.3, edgecolors='none')\n",
    "ax.set_ylabel('Number of houses in area')\n",
    "ax.grid(True)\n",
    "\n",
    "plt.show()"
   ]
  },
  {
   "cell_type": "markdown",
   "id": "2ff22911",
   "metadata": {},
   "source": [
    "### Try to find outliers in the feature columns"
   ]
  },
  {
   "cell_type": "code",
   "execution_count": 193,
   "id": "a26750ea",
   "metadata": {},
   "outputs": [],
   "source": [
    "import seaborn as sns\n",
    "sns.set()\n",
    "\n",
    "from sklearn.preprocessing import StandardScaler # Standardization\n",
    "from sklearn.ensemble import IsolationForest # Outlier Detection\n",
    "from keras.models import Sequential # Sequential Neural Network\n",
    "from keras.layers import Dense\n",
    "from keras.callbacks import EarlyStopping # Early Stopping Callback\n",
    "from keras.optimizers import Adam # Optimizer\n",
    "import warnings\n",
    "\n",
    "warnings.filterwarnings('ignore') # To ignore warnings."
   ]
  },
  {
   "cell_type": "code",
   "execution_count": 194,
   "id": "44d6b251",
   "metadata": {},
   "outputs": [],
   "source": [
    "df = df.drop(df[(df['rooms'] == 2)  & (df['price']>50000)].index)"
   ]
  },
  {
   "cell_type": "code",
   "execution_count": 195,
   "id": "2e8606d6",
   "metadata": {},
   "outputs": [
    {
     "data": {
      "text/plain": [
       "Text(0.5, 0.98, '0       1\\n1       3\\n2       3\\n3       3\\n4       2\\n       ..\\n1033    3\\n1034    3\\n1035    1\\n1036    3\\n1037    2\\nName: rooms, Length: 1034, dtype: int64 Analysis')"
      ]
     },
     "execution_count": 195,
     "metadata": {},
     "output_type": "execute_result"
    },
    {
     "data": {
      "image/png": "[encoded data removed]",
      "text/plain": [
       "<Figure size 1008x432 with 2 Axes>"
      ]
     },
     "metadata": {},
     "output_type": "display_data"
    }
   ],
   "source": [
    "fig, ax = plt.subplots(1,2,figsize=(14,6))\n",
    "sns.stripplot(x='rooms', y='price', data=df, ax=ax[0])\n",
    "sns.countplot(df['rooms'], ax=ax[1])\n",
    "fig.suptitle(str(df['rooms']) + ' Analysis')"
   ]
  },
  {
   "cell_type": "code",
   "execution_count": 196,
   "id": "469f0014",
   "metadata": {},
   "outputs": [],
   "source": [
    "df = df.drop(df[df['square_meters'] > 100].index)\n",
    "df = df.drop(df[df['price'] > 15_000].index)"
   ]
  },
  {
   "cell_type": "code",
   "execution_count": 197,
   "id": "b991af5a",
   "metadata": {},
   "outputs": [
    {
     "data": {
      "text/plain": [
       "Text(0.5, 0.98, 'square_meters Analysis')"
      ]
     },
     "execution_count": 197,
     "metadata": {},
     "output_type": "execute_result"
    },
    {
     "data": {
      "image/png": "[encoded data removed]",
      "text/plain": [
       "<Figure size 864x432 with 2 Axes>"
      ]
     },
     "metadata": {},
     "output_type": "display_data"
    }
   ],
   "source": [
    "fig, ax = plt.subplots(1,2,figsize=(12,6))\n",
    "sns.scatterplot(x='square_meters', y='price', data=df, ax=ax[0])\n",
    "sns.distplot(df['square_meters'], kde=False, ax=ax[1])\n",
    "fig.suptitle(str('square_meters') + ' Analysis')"
   ]
  },
  {
   "cell_type": "markdown",
   "id": "14f6a4e1",
   "metadata": {},
   "source": [
    "### Data cleaning and preparation for model training"
   ]
  },
  {
   "cell_type": "code",
   "execution_count": 198,
   "id": "e3d4d708",
   "metadata": {},
   "outputs": [],
   "source": [
    "# Remove rows with 'mazowieckie' district as it is not a valid district\n",
    "df = df.drop(df[df.district == \"mazowieckie\"].index)\n",
    "\n",
    "# df = df.drop(['district'], axis=1)\n",
    "\n",
    "# Use OrdinalEncoding to encode categorical values to numerical ones\n",
    "enc = OrdinalEncoder()\n",
    "df[['district']] = enc.fit_transform(df[['district']])"
   ]
  },
  {
   "cell_type": "code",
   "execution_count": 199,
   "id": "9b9abce7",
   "metadata": {},
   "outputs": [
    {
     "data": {
      "text/html": [
       "<div>\n",
       "<style scoped>\n",
       "    .dataframe tbody tr th:only-of-type {\n",
       "        vertical-align: middle;\n",
       "    }\n",
       "\n",
       "    .dataframe tbody tr th {\n",
       "        vertical-align: top;\n",
       "    }\n",
       "\n",
       "    .dataframe thead th {\n",
       "        text-align: right;\n",
       "    }\n",
       "</style>\n",
       "<table border=\"1\" class=\"dataframe\">\n",
       "  <thead>\n",
       "    <tr style=\"text-align: right;\">\n",
       "      <th></th>\n",
       "      <th>district</th>\n",
       "      <th>rooms</th>\n",
       "      <th>square_meters</th>\n",
       "      <th>price</th>\n",
       "    </tr>\n",
       "  </thead>\n",
       "  <tbody>\n",
       "    <tr>\n",
       "      <th>0</th>\n",
       "      <td>16.0</td>\n",
       "      <td>1</td>\n",
       "      <td>29.0</td>\n",
       "      <td>2300</td>\n",
       "    </tr>\n",
       "    <tr>\n",
       "      <th>1</th>\n",
       "      <td>0.0</td>\n",
       "      <td>3</td>\n",
       "      <td>61.0</td>\n",
       "      <td>3300</td>\n",
       "    </tr>\n",
       "    <tr>\n",
       "      <th>2</th>\n",
       "      <td>11.0</td>\n",
       "      <td>3</td>\n",
       "      <td>68.0</td>\n",
       "      <td>3499</td>\n",
       "    </tr>\n",
       "    <tr>\n",
       "      <th>4</th>\n",
       "      <td>7.0</td>\n",
       "      <td>2</td>\n",
       "      <td>40.0</td>\n",
       "      <td>2500</td>\n",
       "    </tr>\n",
       "    <tr>\n",
       "      <th>5</th>\n",
       "      <td>1.0</td>\n",
       "      <td>2</td>\n",
       "      <td>40.0</td>\n",
       "      <td>2200</td>\n",
       "    </tr>\n",
       "  </tbody>\n",
       "</table>\n",
       "</div>"
      ],
      "text/plain": [
       "   district  rooms  square_meters  price\n",
       "0      16.0      1           29.0   2300\n",
       "1       0.0      3           61.0   3300\n",
       "2      11.0      3           68.0   3499\n",
       "4       7.0      2           40.0   2500\n",
       "5       1.0      2           40.0   2200"
      ]
     },
     "execution_count": 199,
     "metadata": {},
     "output_type": "execute_result"
    }
   ],
   "source": [
    "df.head()"
   ]
  },
  {
   "cell_type": "code",
   "execution_count": 273,
   "id": "60fdf86e",
   "metadata": {},
   "outputs": [],
   "source": [
    "# Separate features from prices\n",
    "house_features = df.loc[:, df.columns != \"price\"]\n",
    "house_prices = df['price']"
   ]
  },
  {
   "cell_type": "code",
   "execution_count": 274,
   "id": "2b3a8619",
   "metadata": {},
   "outputs": [],
   "source": [
    "# Prepare train and test sets\n",
    "X_train, x_test, Y_train, y_test = train_test_split(house_features, house_prices, test_size=0.2, random_state=42)"
   ]
  },
  {
   "cell_type": "code",
   "execution_count": 275,
   "id": "ebdf2457",
   "metadata": {},
   "outputs": [],
   "source": [
    "# Data standarization\n",
    "scaler = StandardScaler()\n",
    "# fit scaler on data\n",
    "X_train_norm = scaler.fit_transform(X_train)"
   ]
  },
  {
   "cell_type": "markdown",
   "id": "3bb77fb0",
   "metadata": {},
   "source": [
    "### Training the model - Keras"
   ]
  },
  {
   "cell_type": "code",
   "execution_count": 276,
   "id": "ab0f42c4",
   "metadata": {},
   "outputs": [],
   "source": [
    "from keras.models import Sequential\n",
    "from keras.layers import Dense"
   ]
  },
  {
   "cell_type": "code",
   "execution_count": 277,
   "id": "ad47f75f",
   "metadata": {},
   "outputs": [],
   "source": [
    "def shallow_network():\n",
    "    # create model\n",
    "    model = Sequential()\n",
    "    model.add(Dense(320, activation='relu', input_shape=(len(house_features.columns),)))\n",
    "    model.add(Dense(384, activation='relu'))\n",
    "    model.add(Dense(352, activation='relu'))\n",
    "    model.add(Dense(448, activation='relu'))\n",
    "    model.add(Dense(160, activation='relu'))\n",
    "    model.add(Dense(160, activation='relu'))\n",
    "    model.add(Dense(32, activation='relu'))\n",
    "    model.add(Dense(1))\n",
    "\n",
    "    # compile model\n",
    "    model.compile(optimizer='adam', loss='mean_squared_error')\n",
    "    return model"
   ]
  },
  {
   "cell_type": "code",
   "execution_count": 278,
   "id": "10d85040",
   "metadata": {
    "scrolled": true
   },
   "outputs": [],
   "source": [
    "model = shallow_network()"
   ]
  },
  {
   "cell_type": "code",
   "execution_count": 279,
   "id": "09d3250b",
   "metadata": {},
   "outputs": [
    {
     "name": "stdout",
     "output_type": "stream",
     "text": [
      "Epoch 1/120\n"
     ]
    },
    {
     "name": "stderr",
     "output_type": "stream",
     "text": [
      "2023-03-05 17:55:36.106357: I tensorflow/core/grappler/optimizers/custom_graph_optimizer_registry.cc:113] Plugin optimizer for device_type GPU is enabled.\n"
     ]
    },
    {
     "name": "stdout",
     "output_type": "stream",
     "text": [
      "19/19 - 1s - loss: 19381180.0000 - val_loss: 15714789.0000 - 540ms/epoch - 28ms/step\n",
      "Epoch 2/120\n",
      "19/19 - 0s - loss: 7118436.5000 - val_loss: 4084149.7500 - 127ms/epoch - 7ms/step\n",
      "Epoch 3/120\n"
     ]
    },
    {
     "name": "stderr",
     "output_type": "stream",
     "text": [
      "2023-03-05 17:55:36.403694: I tensorflow/core/grappler/optimizers/custom_graph_optimizer_registry.cc:113] Plugin optimizer for device_type GPU is enabled.\n"
     ]
    },
    {
     "name": "stdout",
     "output_type": "stream",
     "text": [
      "19/19 - 0s - loss: 3206240.7500 - val_loss: 2445972.2500 - 125ms/epoch - 7ms/step\n",
      "Epoch 4/120\n",
      "19/19 - 0s - loss: 2416416.0000 - val_loss: 2164932.5000 - 133ms/epoch - 7ms/step\n",
      "Epoch 5/120\n",
      "19/19 - 0s - loss: 2223119.2500 - val_loss: 1870320.3750 - 128ms/epoch - 7ms/step\n",
      "Epoch 6/120\n",
      "19/19 - 0s - loss: 1986928.8750 - val_loss: 1739346.1250 - 125ms/epoch - 7ms/step\n",
      "Epoch 7/120\n",
      "19/19 - 0s - loss: 1955176.7500 - val_loss: 1657955.3750 - 128ms/epoch - 7ms/step\n",
      "Epoch 8/120\n",
      "19/19 - 0s - loss: 1801044.1250 - val_loss: 1707249.2500 - 123ms/epoch - 6ms/step\n",
      "Epoch 9/120\n",
      "19/19 - 0s - loss: 1728120.8750 - val_loss: 1529597.8750 - 122ms/epoch - 6ms/step\n",
      "Epoch 10/120\n",
      "19/19 - 0s - loss: 1757414.3750 - val_loss: 1492861.5000 - 125ms/epoch - 7ms/step\n",
      "Epoch 11/120\n",
      "19/19 - 0s - loss: 1678416.6250 - val_loss: 1430787.0000 - 130ms/epoch - 7ms/step\n",
      "Epoch 12/120\n",
      "19/19 - 0s - loss: 1706146.2500 - val_loss: 1452648.6250 - 128ms/epoch - 7ms/step\n",
      "Epoch 13/120\n",
      "19/19 - 0s - loss: 1748509.1250 - val_loss: 1490853.3750 - 124ms/epoch - 7ms/step\n",
      "Epoch 14/120\n",
      "19/19 - 0s - loss: 1661599.3750 - val_loss: 1329772.1250 - 124ms/epoch - 7ms/step\n",
      "Epoch 15/120\n",
      "19/19 - 0s - loss: 1619022.3750 - val_loss: 1319775.6250 - 131ms/epoch - 7ms/step\n",
      "Epoch 16/120\n",
      "19/19 - 0s - loss: 1596329.0000 - val_loss: 1406264.2500 - 130ms/epoch - 7ms/step\n",
      "Epoch 17/120\n",
      "19/19 - 0s - loss: 1680578.8750 - val_loss: 1310218.6250 - 123ms/epoch - 6ms/step\n",
      "Epoch 18/120\n",
      "19/19 - 0s - loss: 1555768.1250 - val_loss: 1292551.8750 - 127ms/epoch - 7ms/step\n",
      "Epoch 19/120\n",
      "19/19 - 0s - loss: 1553567.3750 - val_loss: 1290613.7500 - 133ms/epoch - 7ms/step\n",
      "Epoch 20/120\n",
      "19/19 - 0s - loss: 1594316.1250 - val_loss: 1298416.6250 - 135ms/epoch - 7ms/step\n",
      "Epoch 21/120\n",
      "19/19 - 0s - loss: 1556874.1250 - val_loss: 1269872.0000 - 137ms/epoch - 7ms/step\n",
      "Epoch 22/120\n",
      "19/19 - 0s - loss: 1688886.5000 - val_loss: 1456959.7500 - 125ms/epoch - 7ms/step\n",
      "Epoch 23/120\n",
      "19/19 - 0s - loss: 1678356.1250 - val_loss: 1414581.6250 - 127ms/epoch - 7ms/step\n",
      "Epoch 24/120\n",
      "19/19 - 0s - loss: 1553913.8750 - val_loss: 1406673.7500 - 126ms/epoch - 7ms/step\n",
      "Epoch 25/120\n",
      "19/19 - 0s - loss: 1607663.8750 - val_loss: 1406160.7500 - 128ms/epoch - 7ms/step\n",
      "Epoch 26/120\n",
      "19/19 - 0s - loss: 1675099.3750 - val_loss: 1751152.3750 - 127ms/epoch - 7ms/step\n",
      "Epoch 27/120\n",
      "19/19 - 0s - loss: 1956535.5000 - val_loss: 1445853.8750 - 130ms/epoch - 7ms/step\n",
      "Epoch 28/120\n",
      "19/19 - 0s - loss: 1625182.1250 - val_loss: 1321024.0000 - 132ms/epoch - 7ms/step\n",
      "Epoch 29/120\n",
      "19/19 - 0s - loss: 1586811.0000 - val_loss: 1259866.3750 - 131ms/epoch - 7ms/step\n",
      "Epoch 30/120\n",
      "19/19 - 0s - loss: 1527662.7500 - val_loss: 1421036.6250 - 126ms/epoch - 7ms/step\n",
      "Epoch 31/120\n",
      "19/19 - 0s - loss: 1581709.3750 - val_loss: 1252705.8750 - 131ms/epoch - 7ms/step\n",
      "Epoch 32/120\n",
      "19/19 - 0s - loss: 1498429.2500 - val_loss: 1263135.0000 - 129ms/epoch - 7ms/step\n",
      "Epoch 33/120\n",
      "19/19 - 0s - loss: 1600833.1250 - val_loss: 1346755.7500 - 126ms/epoch - 7ms/step\n",
      "Epoch 34/120\n",
      "19/19 - 0s - loss: 1503217.6250 - val_loss: 1231557.5000 - 131ms/epoch - 7ms/step\n",
      "Epoch 35/120\n",
      "19/19 - 0s - loss: 1560054.3750 - val_loss: 1276350.1250 - 136ms/epoch - 7ms/step\n",
      "Epoch 36/120\n",
      "19/19 - 0s - loss: 1521093.2500 - val_loss: 1271640.6250 - 130ms/epoch - 7ms/step\n",
      "Epoch 37/120\n",
      "19/19 - 0s - loss: 1486526.6250 - val_loss: 1454599.8750 - 127ms/epoch - 7ms/step\n",
      "Epoch 38/120\n",
      "19/19 - 0s - loss: 1564588.2500 - val_loss: 1346685.3750 - 126ms/epoch - 7ms/step\n",
      "Epoch 39/120\n",
      "19/19 - 0s - loss: 1547281.2500 - val_loss: 1251165.7500 - 130ms/epoch - 7ms/step\n",
      "Epoch 40/120\n",
      "19/19 - 0s - loss: 1558944.1250 - val_loss: 1241730.3750 - 133ms/epoch - 7ms/step\n",
      "Epoch 41/120\n",
      "19/19 - 0s - loss: 1543500.5000 - val_loss: 1272682.7500 - 126ms/epoch - 7ms/step\n",
      "Epoch 42/120\n",
      "19/19 - 0s - loss: 1508152.2500 - val_loss: 1561726.5000 - 127ms/epoch - 7ms/step\n",
      "Epoch 43/120\n",
      "19/19 - 0s - loss: 1638264.3750 - val_loss: 1391136.0000 - 129ms/epoch - 7ms/step\n",
      "Epoch 44/120\n",
      "19/19 - 0s - loss: 1589889.7500 - val_loss: 1343308.1250 - 128ms/epoch - 7ms/step\n",
      "Epoch 45/120\n",
      "19/19 - 0s - loss: 1583241.2500 - val_loss: 1438732.3750 - 129ms/epoch - 7ms/step\n",
      "Epoch 46/120\n",
      "19/19 - 0s - loss: 1562487.2500 - val_loss: 1220714.0000 - 136ms/epoch - 7ms/step\n",
      "Epoch 47/120\n",
      "19/19 - 0s - loss: 1467768.3750 - val_loss: 1243680.3750 - 128ms/epoch - 7ms/step\n",
      "Epoch 48/120\n",
      "19/19 - 0s - loss: 1450238.6250 - val_loss: 1298471.6250 - 126ms/epoch - 7ms/step\n",
      "Epoch 49/120\n",
      "19/19 - 0s - loss: 1536071.3750 - val_loss: 1259200.3750 - 129ms/epoch - 7ms/step\n",
      "Epoch 50/120\n",
      "19/19 - 0s - loss: 1574844.7500 - val_loss: 1339771.1250 - 132ms/epoch - 7ms/step\n",
      "Epoch 51/120\n",
      "19/19 - 0s - loss: 1480409.2500 - val_loss: 1530232.6250 - 129ms/epoch - 7ms/step\n",
      "Epoch 52/120\n",
      "19/19 - 0s - loss: 1475085.3750 - val_loss: 1231633.0000 - 125ms/epoch - 7ms/step\n",
      "Epoch 53/120\n",
      "19/19 - 0s - loss: 1472962.5000 - val_loss: 1297560.3750 - 132ms/epoch - 7ms/step\n",
      "Epoch 54/120\n",
      "19/19 - 0s - loss: 1473553.0000 - val_loss: 1257564.1250 - 129ms/epoch - 7ms/step\n",
      "Epoch 55/120\n",
      "19/19 - 0s - loss: 1409768.3750 - val_loss: 1254393.5000 - 130ms/epoch - 7ms/step\n",
      "Epoch 56/120\n",
      "19/19 - 0s - loss: 1443786.7500 - val_loss: 1224415.6250 - 130ms/epoch - 7ms/step\n",
      "Epoch 57/120\n",
      "19/19 - 0s - loss: 1438233.1250 - val_loss: 1296439.1250 - 128ms/epoch - 7ms/step\n",
      "Epoch 58/120\n",
      "19/19 - 0s - loss: 1493469.3750 - val_loss: 1418917.8750 - 135ms/epoch - 7ms/step\n",
      "Epoch 59/120\n",
      "19/19 - 0s - loss: 1449135.5000 - val_loss: 1196653.6250 - 133ms/epoch - 7ms/step\n",
      "Epoch 60/120\n",
      "19/19 - 0s - loss: 1432330.7500 - val_loss: 1261092.0000 - 128ms/epoch - 7ms/step\n",
      "Epoch 61/120\n",
      "19/19 - 0s - loss: 1447004.8750 - val_loss: 1201237.8750 - 133ms/epoch - 7ms/step\n",
      "Epoch 62/120\n",
      "19/19 - 0s - loss: 1407817.5000 - val_loss: 1272216.5000 - 127ms/epoch - 7ms/step\n",
      "Epoch 63/120\n",
      "19/19 - 0s - loss: 1428263.7500 - val_loss: 1259647.6250 - 130ms/epoch - 7ms/step\n",
      "Epoch 64/120\n",
      "19/19 - 0s - loss: 1552311.3750 - val_loss: 1222798.5000 - 125ms/epoch - 7ms/step\n",
      "Epoch 65/120\n",
      "19/19 - 0s - loss: 1568219.5000 - val_loss: 1759780.1250 - 123ms/epoch - 6ms/step\n",
      "Epoch 66/120\n",
      "19/19 - 0s - loss: 1562608.8750 - val_loss: 1409037.7500 - 134ms/epoch - 7ms/step\n",
      "Epoch 67/120\n",
      "19/19 - 0s - loss: 1459181.1250 - val_loss: 1232170.7500 - 129ms/epoch - 7ms/step\n",
      "Epoch 68/120\n",
      "19/19 - 0s - loss: 1413947.2500 - val_loss: 1287031.3750 - 131ms/epoch - 7ms/step\n",
      "Epoch 69/120\n",
      "19/19 - 0s - loss: 1449158.5000 - val_loss: 1323226.3750 - 132ms/epoch - 7ms/step\n",
      "Epoch 70/120\n",
      "19/19 - 0s - loss: 1456464.6250 - val_loss: 1254503.5000 - 132ms/epoch - 7ms/step\n",
      "Epoch 71/120\n",
      "19/19 - 0s - loss: 1370997.0000 - val_loss: 1206646.6250 - 127ms/epoch - 7ms/step\n",
      "Epoch 72/120\n",
      "19/19 - 0s - loss: 1386101.6250 - val_loss: 1511189.8750 - 132ms/epoch - 7ms/step\n",
      "Epoch 73/120\n",
      "19/19 - 0s - loss: 1542968.1250 - val_loss: 1215262.8750 - 140ms/epoch - 7ms/step\n",
      "Epoch 74/120\n",
      "19/19 - 0s - loss: 1358039.7500 - val_loss: 1266293.2500 - 136ms/epoch - 7ms/step\n",
      "Epoch 75/120\n",
      "19/19 - 0s - loss: 1400691.5000 - val_loss: 1352231.1250 - 133ms/epoch - 7ms/step\n",
      "Epoch 76/120\n",
      "19/19 - 0s - loss: 1482587.1250 - val_loss: 1233788.5000 - 130ms/epoch - 7ms/step\n",
      "Epoch 77/120\n",
      "19/19 - 0s - loss: 1456305.6250 - val_loss: 1201752.6250 - 133ms/epoch - 7ms/step\n",
      "Epoch 78/120\n",
      "19/19 - 0s - loss: 1400715.2500 - val_loss: 1309775.6250 - 141ms/epoch - 7ms/step\n",
      "Epoch 79/120\n",
      "19/19 - 0s - loss: 1391382.1250 - val_loss: 1229609.8750 - 135ms/epoch - 7ms/step\n",
      "Epoch 80/120\n",
      "19/19 - 0s - loss: 1392486.8750 - val_loss: 1539015.0000 - 135ms/epoch - 7ms/step\n",
      "Epoch 81/120\n",
      "19/19 - 0s - loss: 1454003.7500 - val_loss: 1278366.2500 - 135ms/epoch - 7ms/step\n",
      "Epoch 82/120\n",
      "19/19 - 0s - loss: 1430432.1250 - val_loss: 1686175.7500 - 127ms/epoch - 7ms/step\n",
      "Epoch 83/120\n",
      "19/19 - 0s - loss: 1643451.6250 - val_loss: 1645894.6250 - 125ms/epoch - 7ms/step\n",
      "Epoch 84/120\n",
      "19/19 - 0s - loss: 1485452.5000 - val_loss: 1203131.7500 - 124ms/epoch - 7ms/step\n",
      "Epoch 85/120\n",
      "19/19 - 0s - loss: 1381986.6250 - val_loss: 1269028.2500 - 132ms/epoch - 7ms/step\n",
      "Epoch 86/120\n",
      "19/19 - 0s - loss: 1389650.3750 - val_loss: 1229479.6250 - 129ms/epoch - 7ms/step\n",
      "Epoch 87/120\n",
      "19/19 - 0s - loss: 1391180.3750 - val_loss: 1436290.0000 - 128ms/epoch - 7ms/step\n",
      "Epoch 88/120\n",
      "19/19 - 0s - loss: 1377412.3750 - val_loss: 1141061.7500 - 135ms/epoch - 7ms/step\n",
      "Epoch 89/120\n",
      "19/19 - 0s - loss: 1332863.3750 - val_loss: 1153690.1250 - 144ms/epoch - 8ms/step\n"
     ]
    },
    {
     "name": "stdout",
     "output_type": "stream",
     "text": [
      "Epoch 90/120\n",
      "19/19 - 0s - loss: 1354542.3750 - val_loss: 1295163.7500 - 128ms/epoch - 7ms/step\n",
      "Epoch 91/120\n",
      "19/19 - 0s - loss: 1337567.3750 - val_loss: 1223512.0000 - 123ms/epoch - 6ms/step\n",
      "Epoch 92/120\n",
      "19/19 - 0s - loss: 1410820.5000 - val_loss: 1161584.1250 - 130ms/epoch - 7ms/step\n",
      "Epoch 93/120\n",
      "19/19 - 0s - loss: 1316411.1250 - val_loss: 1221344.8750 - 122ms/epoch - 6ms/step\n",
      "Epoch 94/120\n",
      "19/19 - 0s - loss: 1336653.6250 - val_loss: 1191371.8750 - 124ms/epoch - 7ms/step\n",
      "Epoch 95/120\n",
      "19/19 - 0s - loss: 1374974.3750 - val_loss: 1164358.3750 - 121ms/epoch - 6ms/step\n",
      "Epoch 96/120\n",
      "19/19 - 0s - loss: 1325779.6250 - val_loss: 1203134.3750 - 135ms/epoch - 7ms/step\n",
      "Epoch 97/120\n",
      "19/19 - 0s - loss: 1314811.1250 - val_loss: 1196634.8750 - 127ms/epoch - 7ms/step\n",
      "Epoch 98/120\n",
      "19/19 - 0s - loss: 1481368.3750 - val_loss: 1488310.5000 - 127ms/epoch - 7ms/step\n",
      "Epoch 99/120\n",
      "19/19 - 0s - loss: 1492070.3750 - val_loss: 1352458.1250 - 127ms/epoch - 7ms/step\n",
      "Epoch 100/120\n",
      "19/19 - 0s - loss: 1398373.8750 - val_loss: 1201958.5000 - 127ms/epoch - 7ms/step\n",
      "Epoch 101/120\n",
      "19/19 - 0s - loss: 1543638.5000 - val_loss: 1735611.1250 - 123ms/epoch - 6ms/step\n",
      "Epoch 102/120\n",
      "19/19 - 0s - loss: 1435445.5000 - val_loss: 1326445.5000 - 125ms/epoch - 7ms/step\n",
      "Epoch 103/120\n",
      "19/19 - 0s - loss: 1334807.7500 - val_loss: 1134282.8750 - 126ms/epoch - 7ms/step\n",
      "Epoch 104/120\n",
      "19/19 - 0s - loss: 1354532.8750 - val_loss: 1181220.3750 - 124ms/epoch - 7ms/step\n",
      "Epoch 105/120\n",
      "19/19 - 0s - loss: 1371463.2500 - val_loss: 1153140.3750 - 124ms/epoch - 7ms/step\n",
      "Epoch 106/120\n",
      "19/19 - 0s - loss: 1337382.8750 - val_loss: 1162187.5000 - 134ms/epoch - 7ms/step\n",
      "Epoch 107/120\n",
      "19/19 - 0s - loss: 1452088.3750 - val_loss: 1192338.8750 - 129ms/epoch - 7ms/step\n",
      "Epoch 108/120\n",
      "19/19 - 0s - loss: 1502152.8750 - val_loss: 1163272.8750 - 130ms/epoch - 7ms/step\n",
      "Epoch 109/120\n",
      "19/19 - 0s - loss: 1325648.6250 - val_loss: 1144496.2500 - 128ms/epoch - 7ms/step\n",
      "Epoch 110/120\n",
      "19/19 - 0s - loss: 1310585.7500 - val_loss: 1146131.7500 - 127ms/epoch - 7ms/step\n",
      "Epoch 111/120\n",
      "19/19 - 0s - loss: 1266978.5000 - val_loss: 1122414.1250 - 130ms/epoch - 7ms/step\n",
      "Epoch 112/120\n",
      "19/19 - 0s - loss: 1291161.1250 - val_loss: 1366485.2500 - 138ms/epoch - 7ms/step\n",
      "Epoch 113/120\n",
      "19/19 - 0s - loss: 1267138.1250 - val_loss: 1192338.0000 - 134ms/epoch - 7ms/step\n",
      "Epoch 114/120\n",
      "19/19 - 0s - loss: 1499774.3750 - val_loss: 1309161.7500 - 130ms/epoch - 7ms/step\n",
      "Epoch 115/120\n",
      "19/19 - 0s - loss: 1354970.3750 - val_loss: 1161764.6250 - 133ms/epoch - 7ms/step\n",
      "Epoch 116/120\n",
      "19/19 - 0s - loss: 1394200.7500 - val_loss: 1194093.7500 - 126ms/epoch - 7ms/step\n",
      "Epoch 117/120\n",
      "19/19 - 0s - loss: 1330869.6250 - val_loss: 1160253.5000 - 125ms/epoch - 7ms/step\n",
      "Epoch 118/120\n",
      "19/19 - 0s - loss: 1510916.5000 - val_loss: 1674447.6250 - 126ms/epoch - 7ms/step\n",
      "Epoch 119/120\n",
      "19/19 - 0s - loss: 1513393.0000 - val_loss: 1315587.0000 - 129ms/epoch - 7ms/step\n",
      "Epoch 120/120\n",
      "19/19 - 0s - loss: 1509684.5000 - val_loss: 1372608.2500 - 127ms/epoch - 7ms/step\n"
     ]
    }
   ],
   "source": [
    "training_history = model.fit(X_train_norm, Y_train, validation_split=0.2, epochs=120, verbose=2)"
   ]
  },
  {
   "cell_type": "code",
   "execution_count": 280,
   "id": "6f3ed933",
   "metadata": {
    "scrolled": true
   },
   "outputs": [
    {
     "data": {
      "image/png": "[encoded data removed]",
      "text/plain": [
       "<Figure size 432x288 with 1 Axes>"
      ]
     },
     "metadata": {},
     "output_type": "display_data"
    }
   ],
   "source": [
    "# summarize history for loss\n",
    "plt.plot(training_history.history['loss'])\n",
    "plt.plot(training_history.history['val_loss'])\n",
    "plt.title('model loss')\n",
    "plt.ylabel('loss')\n",
    "plt.xlabel('epoch')\n",
    "plt.legend(['train', 'test'], loc='upper left')\n",
    "plt.show()"
   ]
  },
  {
   "cell_type": "code",
   "execution_count": 183,
   "id": "17839c1f",
   "metadata": {},
   "outputs": [
    {
     "data": {
      "text/html": [
       "<div>\n",
       "<style scoped>\n",
       "    .dataframe tbody tr th:only-of-type {\n",
       "        vertical-align: middle;\n",
       "    }\n",
       "\n",
       "    .dataframe tbody tr th {\n",
       "        vertical-align: top;\n",
       "    }\n",
       "\n",
       "    .dataframe thead th {\n",
       "        text-align: right;\n",
       "    }\n",
       "</style>\n",
       "<table border=\"1\" class=\"dataframe\">\n",
       "  <thead>\n",
       "    <tr style=\"text-align: right;\">\n",
       "      <th></th>\n",
       "      <th>district</th>\n",
       "      <th>rooms</th>\n",
       "      <th>square_meters</th>\n",
       "    </tr>\n",
       "  </thead>\n",
       "  <tbody>\n",
       "    <tr>\n",
       "      <th>90</th>\n",
       "      <td>4.0</td>\n",
       "      <td>1</td>\n",
       "      <td>32.0</td>\n",
       "    </tr>\n",
       "    <tr>\n",
       "      <th>1029</th>\n",
       "      <td>6.0</td>\n",
       "      <td>2</td>\n",
       "      <td>45.0</td>\n",
       "    </tr>\n",
       "    <tr>\n",
       "      <th>801</th>\n",
       "      <td>19.0</td>\n",
       "      <td>2</td>\n",
       "      <td>31.0</td>\n",
       "    </tr>\n",
       "    <tr>\n",
       "      <th>1024</th>\n",
       "      <td>11.0</td>\n",
       "      <td>3</td>\n",
       "      <td>55.0</td>\n",
       "    </tr>\n",
       "    <tr>\n",
       "      <th>961</th>\n",
       "      <td>18.0</td>\n",
       "      <td>1</td>\n",
       "      <td>39.0</td>\n",
       "    </tr>\n",
       "  </tbody>\n",
       "</table>\n",
       "</div>"
      ],
      "text/plain": [
       "      district  rooms  square_meters\n",
       "90         4.0      1           32.0\n",
       "1029       6.0      2           45.0\n",
       "801       19.0      2           31.0\n",
       "1024      11.0      3           55.0\n",
       "961       18.0      1           39.0"
      ]
     },
     "execution_count": 183,
     "metadata": {},
     "output_type": "execute_result"
    }
   ],
   "source": [
    "X_train.head()"
   ]
  },
  {
   "cell_type": "markdown",
   "id": "3624bfa6",
   "metadata": {},
   "source": [
    "### Training the model - Torch\n"
   ]
  },
  {
   "cell_type": "code",
   "execution_count": 260,
   "id": "75cbaeea",
   "metadata": {},
   "outputs": [
    {
     "data": {
      "text/plain": [
       "torch.Size([752, 3])"
      ]
     },
     "execution_count": 260,
     "metadata": {},
     "output_type": "execute_result"
    }
   ],
   "source": [
    "dtype = torch.float\n",
    "X_train_tensor = torch.tensor(X_train_norm, dtype=dtype)\n",
    "x_test_tensor = torch.tensor(x_test.values, dtype=dtype)\n",
    "\n",
    "Y_train_tensor = torch.tensor(Y_train.values, dtype=dtype)\n",
    "y_test_tensor = torch.tensor(y_test.values, dtype=dtype)\n",
    "\n",
    "X_train_tensor.shape"
   ]
  },
  {
   "cell_type": "code",
   "execution_count": 261,
   "id": "5c632933",
   "metadata": {},
   "outputs": [],
   "source": [
    "input_features_amount = 3\n",
    "output_amount = 1\n",
    "hidden_layer_size = 300\n",
    "\n",
    "\n",
    "loss_function = torch.nn.MSELoss()\n",
    "learning_rate = 1e-3"
   ]
  },
  {
   "cell_type": "code",
   "execution_count": 262,
   "id": "275562e5",
   "metadata": {},
   "outputs": [],
   "source": [
    "model = torch.nn.Sequential(torch.nn.Linear(input_features_amount, hidden_layer_size),\n",
    "                            torch.nn.Sigmoid(),\n",
    "                            torch.nn.Linear(hidden_layer_size, output_amount))"
   ]
  },
  {
   "cell_type": "code",
   "execution_count": 263,
   "id": "347c37b8",
   "metadata": {
    "scrolled": true
   },
   "outputs": [
    {
     "name": "stdout",
     "output_type": "stream",
     "text": [
      "0 19667308.0\n",
      "1000 1201414.0\n",
      "2000 1147755.375\n",
      "3000 1107842.75\n",
      "4000 1071822.875\n",
      "5000 1040591.5\n",
      "6000 1016015.25\n",
      "7000 991627.375\n",
      "8000 965078.8125\n",
      "9000 941406.4375\n",
      "10000 920537.25\n",
      "11000 898527.9375\n",
      "12000 880101.4375\n",
      "13000 864849.1875\n",
      "14000 846944.4375\n",
      "15000 829419.25\n",
      "16000 814757.25\n",
      "17000 801360.625\n",
      "18000 790049.8125\n",
      "19000 775480.6875\n",
      "20000 760388.625\n",
      "21000 747782.125\n",
      "22000 736129.625\n",
      "23000 725584.875\n",
      "24000 715280.625\n",
      "25000 704351.375\n",
      "26000 694392.125\n",
      "27000 685689.1875\n",
      "28000 676668.125\n",
      "29000 667236.0625\n",
      "30000 658226.4375\n",
      "31000 649053.6875\n",
      "32000 640679.6875\n",
      "33000 633451.4375\n",
      "34000 626605.5\n",
      "35000 620488.875\n",
      "36000 615089.0625\n",
      "37000 609736.625\n",
      "38000 604403.0\n",
      "39000 599990.125\n",
      "40000 595341.875\n",
      "41000 591100.1875\n",
      "42000 586499.0\n",
      "43000 582600.375\n",
      "44000 579395.3125\n",
      "45000 576405.75\n",
      "46000 570621.25\n",
      "47000 568666.75\n",
      "48000 563882.1875\n",
      "49000 560184.9375\n",
      "50000 556893.375\n",
      "51000 554019.8125\n",
      "52000 550871.375\n",
      "53000 549119.6875\n",
      "54000 544418.4375\n",
      "55000 542461.75\n",
      "56000 541037.1875\n",
      "57000 537903.8125\n",
      "58000 535905.25\n",
      "59000 533758.9375\n",
      "60000 528227.375\n",
      "61000 525786.8125\n",
      "62000 525168.6875\n",
      "63000 523359.90625\n",
      "64000 520310.34375\n",
      "65000 517037.5\n",
      "66000 516191.1875\n",
      "67000 513860.34375\n",
      "68000 510846.0\n",
      "69000 508973.96875\n",
      "70000 507358.59375\n",
      "71000 506878.0\n",
      "72000 503928.09375\n",
      "73000 503451.75\n",
      "74000 500486.9375\n",
      "75000 499058.21875\n",
      "76000 498846.46875\n",
      "77000 495263.375\n",
      "78000 495213.15625\n",
      "79000 493601.21875\n",
      "80000 491966.71875\n",
      "81000 489682.125\n",
      "82000 488398.25\n",
      "83000 484824.125\n",
      "84000 483699.09375\n",
      "85000 481859.84375\n",
      "86000 482092.71875\n",
      "87000 479114.625\n",
      "88000 478860.03125\n",
      "89000 475804.25\n",
      "90000 473995.65625\n",
      "91000 475663.6875\n",
      "92000 472216.5\n",
      "93000 471122.09375\n",
      "94000 469547.53125\n",
      "95000 468498.3125\n",
      "96000 466589.15625\n",
      "97000 465798.90625\n",
      "98000 464134.46875\n",
      "99000 463711.90625\n",
      "100000 461889.53125\n",
      "101000 461855.09375\n",
      "102000 460693.90625\n",
      "103000 459276.46875\n",
      "104000 459472.5\n",
      "105000 457171.21875\n",
      "106000 456229.96875\n",
      "107000 455061.1875\n",
      "108000 454529.5625\n",
      "109000 453838.34375\n",
      "110000 452783.15625\n",
      "111000 452227.03125\n",
      "112000 451066.4375\n",
      "113000 450694.90625\n",
      "114000 449415.1875\n",
      "115000 448926.71875\n",
      "116000 448044.21875\n",
      "117000 447916.625\n",
      "118000 447282.8125\n",
      "119000 446095.78125\n",
      "120000 445416.71875\n",
      "121000 445322.03125\n",
      "122000 444177.4375\n",
      "123000 443888.15625\n",
      "124000 442805.5625\n",
      "125000 442527.65625\n",
      "126000 441519.6875\n",
      "127000 440997.4375\n",
      "128000 440330.90625\n",
      "129000 439528.5\n",
      "130000 438862.46875\n",
      "131000 437980.25\n",
      "132000 437277.84375\n",
      "133000 436591.5\n",
      "134000 435918.59375\n",
      "135000 435274.78125\n",
      "136000 434623.5\n",
      "137000 433984.3125\n",
      "138000 433346.375\n",
      "139000 432720.34375\n",
      "140000 432088.03125\n",
      "141000 431245.625\n",
      "142000 430600.4375\n",
      "143000 429976.46875\n",
      "144000 429348.90625\n",
      "145000 428748.9375\n",
      "146000 428173.40625\n",
      "147000 427524.5\n",
      "148000 426950.59375\n",
      "149000 425918.625\n",
      "150000 425375.21875\n",
      "151000 424787.28125\n",
      "152000 424226.0\n",
      "153000 423462.90625\n",
      "154000 422755.4375\n",
      "155000 422246.0\n",
      "156000 421647.1875\n",
      "157000 421156.96875\n",
      "158000 420676.4375\n",
      "159000 420202.125\n",
      "160000 419616.4375\n",
      "161000 419145.3125\n",
      "162000 418662.71875\n",
      "163000 418204.125\n",
      "164000 417759.625\n",
      "165000 417285.84375\n",
      "166000 416839.625\n",
      "167000 416415.90625\n",
      "168000 416000.375\n",
      "169000 415597.625\n",
      "170000 415207.09375\n",
      "171000 414806.8125\n",
      "172000 414363.96875\n",
      "173000 413985.0625\n",
      "174000 413612.4375\n",
      "175000 413244.96875\n",
      "176000 412880.9375\n",
      "177000 412521.875\n",
      "178000 412172.34375\n",
      "179000 411828.09375\n",
      "180000 411488.9375\n",
      "181000 411154.25\n",
      "182000 410758.03125\n",
      "183000 410405.28125\n",
      "184000 410072.3125\n",
      "185000 409365.5\n",
      "186000 408966.5\n",
      "187000 408467.75\n",
      "188000 408110.375\n",
      "189000 407754.125\n",
      "190000 407404.0\n",
      "191000 407070.03125\n",
      "192000 406744.625\n",
      "193000 406426.6875\n",
      "194000 406115.375\n",
      "195000 405809.6875\n",
      "196000 405509.1875\n",
      "197000 405213.03125\n",
      "198000 404920.21875\n",
      "199000 404624.0\n"
     ]
    }
   ],
   "source": [
    "loss_list = []\n",
    "EPOCHS = 200_000\n",
    "Y_train_tensor = torch.reshape(Y_train_tensor, (X_train_tensor.shape[0], 1))\n",
    "\n",
    "for epoch in range(EPOCHS):\n",
    "    y_pred = model(X_train_tensor)\n",
    "    loss = loss_function(y_pred, Y_train_tensor)\n",
    "    \n",
    "    if epoch % 1000 == 0:\n",
    "        print(epoch, loss.item())\n",
    "    \n",
    "    loss_list.append(loss.item())\n",
    "    model.zero_grad()\n",
    "    loss.backward()\n",
    "    \n",
    "    with torch.no_grad():\n",
    "        for param in model.parameters():\n",
    "            param -= learning_rate * param.grad"
   ]
  },
  {
   "cell_type": "code",
   "execution_count": 458,
   "id": "00e28dc1",
   "metadata": {},
   "outputs": [],
   "source": [
    "# !!! Error that occured before\n",
    "# .../loss.py:530: UserWarning: Using a target size (torch.Size([828])) that is different to the input size (torch.Size([828, 1])). This will likely lead to incorrect results due to broadcasting. Please ensure they have the same size.\n",
    "#  return F.mse_loss(input, target, reduction=self.reduction)"
   ]
  },
  {
   "cell_type": "code",
   "execution_count": 264,
   "id": "06b4af98",
   "metadata": {},
   "outputs": [
    {
     "data": {
      "image/png": "[encoded data removed]",
      "text/plain": [
       "<Figure size 432x288 with 1 Axes>"
      ]
     },
     "metadata": {},
     "output_type": "display_data"
    }
   ],
   "source": [
    "# Plotting the loss after each iteration\n",
    "plt.plot(loss_list, 'r')\n",
    "plt.tight_layout()\n",
    "plt.grid('True')\n",
    "plt.xlabel(\"Epochs/Iterations\")\n",
    "plt.ylabel(\"Loss\")\n",
    "plt.show()"
   ]
  },
  {
   "cell_type": "code",
   "execution_count": 271,
   "id": "9a9ee92b",
   "metadata": {},
   "outputs": [
    {
     "data": {
      "text/plain": [
       "tensor([ 4.0000,  2.0000, 55.6000])"
      ]
     },
     "execution_count": 271,
     "metadata": {},
     "output_type": "execute_result"
    }
   ],
   "source": [
    "index = 10\n",
    "sample = x_test.iloc[index]\n",
    "actual = y_test.iloc[index]\n",
    "\n",
    "sample_tensor = torch.tensor(sample.values, dtype=dtype)\n",
    "sample_tensor"
   ]
  },
  {
   "cell_type": "code",
   "execution_count": 272,
   "id": "bf5767fc",
   "metadata": {},
   "outputs": [
    {
     "name": "stdout",
     "output_type": "stream",
     "text": [
      "Predicted: 10295.044921875\n",
      "Actual: 4700\n",
      "Difference 5595\n"
     ]
    }
   ],
   "source": [
    "# Make predictions on the test set sample and see how it performs\n",
    "\n",
    "predicted = model(sample_tensor)\n",
    "print(f\"Predicted: {predicted.item()}\")\n",
    "print(f\"Actual: {actual}\")\n",
    "print(f\"Difference {int(predicted.item() - actual)}\")"
   ]
  },
  {
   "cell_type": "code",
   "execution_count": null,
   "id": "3edbe0dc",
   "metadata": {},
   "outputs": [],
   "source": []
  }
 ],
 "metadata": {
  "kernelspec": {
   "display_name": "Python 3 (ipykernel)",
   "language": "python",
   "name": "python3"
  },
  "language_info": {
   "codemirror_mode": {
    "name": "ipython",
    "version": 3
   },
   "file_extension": ".py",
   "mimetype": "text/x-python",
   "name": "python",
   "nbconvert_exporter": "python",
   "pygments_lexer": "ipython3",
   "version": "3.9.13"
  }
 },
 "nbformat": 4,
 "nbformat_minor": 5
}
